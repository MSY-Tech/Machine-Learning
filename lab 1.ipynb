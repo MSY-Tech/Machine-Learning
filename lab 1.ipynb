{
 "cells": [
  {
   "cell_type": "code",
   "execution_count": 95,
   "metadata": {},
   "outputs": [],
   "source": [
    "import numpy as np\n",
    "import pandas as pd"
   ]
  },
  {
   "cell_type": "markdown",
   "metadata": {},
   "source": [
    "Task 1"
   ]
  },
  {
   "cell_type": "code",
   "execution_count": null,
   "metadata": {},
   "outputs": [],
   "source": [
    "a=np.arange(1,21,1)\n",
    "b=a.reshape(4,5)\n",
    "b[:,4]=0\n",
    "b=b.reshape(-1)\n",
    "print(\"array:\\t\",b)"
   ]
  },
  {
   "cell_type": "markdown",
   "metadata": {},
   "source": [
    "Task 2"
   ]
  },
  {
   "cell_type": "code",
   "execution_count": null,
   "metadata": {},
   "outputs": [],
   "source": [
    "a=np.random.random_integers(10,50,25).reshape(5,5)\n",
    "for i in range(5):\n",
    "    print(f\"Sum of row {i}:\",np.sum(a[i]))\n",
    "    print(f\"mean of row {i}:\",np.mean(a[i]))\n",
    "    print(f\"min of row {i}:\",np.min(a[i]))\n",
    "    print(f\"max of row {i}:\",np.max(a[i]))\n",
    "    print()\n",
    "for i in range(5):\n",
    "    print(f\"Sum of col {i}:\",np.sum(a[:,i]))\n",
    "    print(f\"mean of col {i}:\",np.mean(a[:,i]))\n",
    "    print(f\"min of col {i}:\",np.min(a[:,i]))\n",
    "    print(f\"max of col {i}:\",np.max(a[:,i]))\n",
    "    print()\n",
    "a"
   ]
  },
  {
   "cell_type": "markdown",
   "metadata": {},
   "source": [
    "Task 3"
   ]
  },
  {
   "cell_type": "code",
   "execution_count": null,
   "metadata": {},
   "outputs": [],
   "source": [
    "a=(np.identity(4,dtype=int))*5\n",
    "a[3]=np.ones(4,dtype=int)\n",
    "a"
   ]
  },
  {
   "cell_type": "markdown",
   "metadata": {},
   "source": [
    "Task 4"
   ]
  },
  {
   "cell_type": "code",
   "execution_count": null,
   "metadata": {},
   "outputs": [],
   "source": [
    "def my(l,a):\n",
    "\tcnt=0\n",
    "\tfor i in l:\n",
    "\t\tif i==a:\n",
    "\t\t\tcnt+=1\n",
    "\treturn cnt\n",
    "a=np.random.random_integers(0,20,15)\n",
    "b=list(set(a))\n",
    "for i in range(len(b)):\n",
    "    print(b[i],\"exists\",my(a,b[i]),\"times.\")\n",
    "print()\n",
    "cnt=0\n",
    "for i in a:\n",
    "    if i>10:\n",
    "        print(i,\"exists at\",cnt)\n",
    "    cnt+=2"
   ]
  },
  {
   "cell_type": "markdown",
   "metadata": {},
   "source": [
    "Task 5"
   ]
  },
  {
   "cell_type": "code",
   "execution_count": 105,
   "metadata": {},
   "outputs": [
    {
     "data": {
      "text/plain": [
       "array([[0.07, 0.82, 0.5 , 0.23],\n",
       "       [0.95, 0.95, 0.5 , 0.33],\n",
       "       [0.97, 0.75, 0.5 , 0.35]])"
      ]
     },
     "execution_count": 105,
     "metadata": {},
     "output_type": "execute_result"
    }
   ],
   "source": [
    "a=np.random.rand(12).reshape(3,4).round(2)\n",
    "a[:,2]=0.5\n",
    "a"
   ]
  }
 ],
 "metadata": {
  "kernelspec": {
   "display_name": "Python 3",
   "language": "python",
   "name": "python3"
  },
  "language_info": {
   "codemirror_mode": {
    "name": "ipython",
    "version": 3
   },
   "file_extension": ".py",
   "mimetype": "text/x-python",
   "name": "python",
   "nbconvert_exporter": "python",
   "pygments_lexer": "ipython3",
   "version": "3.11.5"
  }
 },
 "nbformat": 4,
 "nbformat_minor": 2
}
