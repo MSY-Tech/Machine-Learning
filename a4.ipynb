{
 "cells": [
  {
   "cell_type": "code",
   "execution_count": null,
   "metadata": {},
   "outputs": [],
   "source": [
    "import matplotlib.pyplot as plt\n",
    "import pandas as pd\n",
    "import numpy as np\n",
    "import random\n"
   ]
  },
  {
   "cell_type": "markdown",
   "metadata": {},
   "source": [
    "Task 1"
   ]
  },
  {
   "cell_type": "code",
   "execution_count": null,
   "metadata": {},
   "outputs": [],
   "source": [
    "# np.random.seed(42)\n",
    "tot=500*365\n",
    "t1=np.random.uniform(-10,40,(500,365))\n",
    "t2=np.random.uniform(0,100,(500,365))\n",
    "num_nan_t1 = int(0.05 * len(t1))\n",
    "nan_indices_t1 = np.random.choice(len(t1), num_nan_t1, replace=False)\n",
    "t1[nan_indices_t1] = np.nan\n",
    "num_nan_t2 = int(0.05 * len(t2))\n",
    "nan_indices_t2 = np.random.choice(len(t2), num_nan_t2, replace=False)\n",
    "t2[nan_indices_t2] = np.nan\n",
    "a1 = np.sum(np.isnan(t1))\n",
    "a2 = np.sum(np.isnan(t2))\n"
   ]
  },
  {
   "cell_type": "markdown",
   "metadata": {},
   "source": [
    "Task 2"
   ]
  },
  {
   "cell_type": "code",
   "execution_count": null,
   "metadata": {},
   "outputs": [],
   "source": [
    "print(\"Number of missing (NaN) values in t1:\", a1)\n",
    "print(\"Number of missing (NaN) values in t2:\", a2)\n"
   ]
  },
  {
   "cell_type": "markdown",
   "metadata": {},
   "source": [
    "Task 3"
   ]
  },
  {
   "cell_type": "code",
   "execution_count": null,
   "metadata": {},
   "outputs": [],
   "source": [
    "temp_in_faren=(t1*1.8)+32\n",
    "feel_like = temp_in_faren + 0.55 * (t2 - 50)\n",
    "feel_like=np.where(feel_like>80,80,feel_like)\n"
   ]
  },
  {
   "cell_type": "markdown",
   "metadata": {},
   "source": [
    "Task 4"
   ]
  },
  {
   "cell_type": "code",
   "execution_count": null,
   "metadata": {},
   "outputs": [],
   "source": [
    "for i in range(365):\n",
    "    a=np.nanmean(temp_in_faren[i][0:32])\n",
    "    print(f\"Average temperature of January of location {i+1}:\\t\",a)\n"
   ]
  },
  {
   "cell_type": "markdown",
   "metadata": {},
   "source": [
    "Task 5"
   ]
  },
  {
   "cell_type": "code",
   "execution_count": null,
   "metadata": {},
   "outputs": [],
   "source": [
    "gen=np.where(t1>35,np.nan,t1)\n",
    "null_values_per_location = np.isnan(gen).sum(axis=0)\n",
    "cnt=1\n",
    "for i in null_values_per_location:\n",
    "\tprint(f\"Null values of location {i} after marking extreme temperatures:\\t{i}\")\n",
    "\tcnt+=1\n"
   ]
  },
  {
   "cell_type": "markdown",
   "metadata": {},
   "source": [
    "Task 6"
   ]
  },
  {
   "cell_type": "code",
   "execution_count": null,
   "metadata": {},
   "outputs": [],
   "source": [
    "t1=np.random.uniform(-10,40,(500,365))\n",
    "a=t1[:,:364]\n",
    "a=list(a.reshape(500,91,4))\n",
    "for i in range(len(a)):\n",
    "    print(f\"Quarterly sum of temp of 1st season in location {i+1}:\\t\",sum(a[i][0][:]))\n",
    "    print(f\"Quarterly sum of temp of 2nd season  in location {i+1}:\\t\",sum(a[i][1][:]))\n",
    "    print(f\"Quarterly sum of temp of 3rd season  in location {i+1}:\\t\",sum(a[i][2][:]))\n",
    "    print(f\"Quarterly sum of temp of 4th season  in location {i+1}:\\t\",sum(a[i][3][:]))\n",
    "    print()\n"
   ]
  },
  {
   "cell_type": "markdown",
   "metadata": {},
   "source": [
    "Task 7"
   ]
  },
  {
   "cell_type": "code",
   "execution_count": null,
   "metadata": {},
   "outputs": [],
   "source": [
    "t2 = np.random.uniform(0, 100, (500, 365))\n",
    "a = np.where(t2 < 30, \"Dry\", np.where(t2 > 70, \"Humid\", \"Normal\"))\n",
    "dry_days_per_location = np.sum(a == \"Dry\", axis=1)\n",
    "humid_days_per_location = np.sum(a == \"Humid\", axis=1)\n",
    "for i in range(500):\n",
    "    print(f\"Location {i+1}: Dry days = {dry_days_per_location[i]}, Humid days = {humid_days_per_location[i]}\")\n"
   ]
  },
  {
   "cell_type": "markdown",
   "metadata": {},
   "source": [
    "Task 8"
   ]
  },
  {
   "cell_type": "code",
   "execution_count": null,
   "metadata": {},
   "outputs": [
    {
     "name": "stdout",
     "output_type": "stream",
     "text": [
      "Adjusted temperature data (sample):\n",
      "[[ -7.18880846  17.7293017   18.82336654   1.83586099 -12.97132636]\n",
      " [ -7.00009366  23.66397494   2.08196497  -5.96978534  29.91901157]\n",
      " [ 32.35157724  13.71075052  29.70966664  19.39920607   0.0872575 ]\n",
      " [  3.06658153  -3.05683499  17.13733108 -14.47533211  17.32855932]\n",
      " [ 15.07204386  -4.20533453  23.35414016   7.46853506   8.65153936]]\n"
     ]
    }
   ],
   "source": [
    "pressure_variation = np.linspace(-5, 5, 500)  \n",
    "adjusted_temperature_data = t1 + pressure_variation[:, np.newaxis]\n",
    "print(f\"Adjusted temperature data (sample):\\n{adjusted_temperature_data[:5, :5]}\")\n"
   ]
  }
 ],
 "metadata": {
  "kernelspec": {
   "display_name": "Python 3",
   "language": "python",
   "name": "python3"
  },
  "language_info": {
   "codemirror_mode": {
    "name": "ipython",
    "version": 3
   },
   "file_extension": ".py",
   "mimetype": "text/x-python",
   "name": "python",
   "nbconvert_exporter": "python",
   "pygments_lexer": "ipython3",
   "version": "3.11.5"
  }
 },
 "nbformat": 4,
 "nbformat_minor": 2
}
