{
 "cells": [
  {
   "attachments": {},
   "cell_type": "markdown",
   "metadata": {},
   "source": [
    "### Task 1: E-commerce Data Processing\n"
   ]
  },
  {
   "attachments": {},
   "cell_type": "markdown",
   "metadata": {},
   "source": [
    "#### Part A: Data Validation"
   ]
  },
  {
   "cell_type": "code",
   "execution_count": null,
   "metadata": {},
   "outputs": [],
   "source": [
    "def validate_orders(orders):\n",
    "    is_valid_order = lambda order: isinstance(order['total'], (int, float)) and order['total'] > 0\n",
    "    try:\n",
    "        valid_orders = list(filter(is_valid_order, orders))\n",
    "    except Exception as e:\n",
    "        print(f\"Error during validation: {e}\")\n",
    "        return []\n",
    "    return valid_orders\n",
    "orders = [\n",
    "    {\"customer\": \"Alice\", \"total\": 250.5},\n",
    "    {\"customer\": \"Bob\", \"total\": \"invalid_data\"}, # Invalid because total is not a number\n",
    "    {\"customer\": \"Charlie\", \"total\": 450},\n",
    "    {\"customer\": \"Daisy\", \"total\": 100.0},\n",
    "    {\"customer\": \"Eve\", \"total\": -30} # Invalid because total is less than 0\n",
    "]\n",
    "valid_orders = validate_orders(orders)\n",
    "print(\"Valid Orders:\", valid_orders)\n"
   ]
  },
  {
   "attachments": {},
   "cell_type": "markdown",
   "metadata": {},
   "source": [
    "#### Part B: Discount Application"
   ]
  },
  {
   "cell_type": "code",
   "execution_count": null,
   "metadata": {},
   "outputs": [],
   "source": [
    "def apply_discount(orders):\n",
    "    discounted_orders = list(\n",
    "        map(\n",
    "            lambda order: {**order, 'total': order['total'] * 0.9} if order['total'] > 300 else order,\n",
    "            orders\n",
    "        )\n",
    "    )\n",
    "    return discounted_orders\n",
    "discounted_orders = apply_discount(valid_orders)\n",
    "print(\"Discounted Orders:\", discounted_orders)"
   ]
  },
  {
   "attachments": {},
   "cell_type": "markdown",
   "metadata": {},
   "source": [
    "#### Part C: Total Sales Calculation"
   ]
  },
  {
   "cell_type": "code",
   "execution_count": null,
   "metadata": {},
   "outputs": [],
   "source": [
    "from functools import reduce\n",
    "def calculate_total_sales(orders):\n",
    "    total_sales = reduce(lambda acc, order: acc + order['total'], orders, 0)\n",
    "    return total_sales\n",
    "total_sales = calculate_total_sales(discounted_orders)\n",
    "print(\"Total Sales:\", total_sales)"
   ]
  },
  {
   "attachments": {},
   "cell_type": "markdown",
   "metadata": {},
   "source": [
    "### Task 2: Iterator and Generator\n",
    "#### Part A: Custom Iterator"
   ]
  },
  {
   "cell_type": "code",
   "execution_count": null,
   "metadata": {},
   "outputs": [],
   "source": [
    "class SquareIterator:\n",
    "    def __init__(self, n):\n",
    "        self.n = n\n",
    "        self.current = 1\n",
    "\n",
    "    def __iter__(self):\n",
    "        return self\n",
    "\n",
    "    def __next__(self):\n",
    "        if self.current <= self.n:\n",
    "            result = self.current ** 2\n",
    "            self.current += 1\n",
    "            return result\n",
    "        else:\n",
    "            raise StopIteration\n",
    "square_iter = SquareIterator(5)\n",
    "print(\"Squares:\")\n",
    "for square in square_iter:\n",
    "    print(square)\n"
   ]
  },
  {
   "attachments": {},
   "cell_type": "markdown",
   "metadata": {},
   "source": [
    "#### Part B: Fibonacci Generator"
   ]
  },
  {
   "cell_type": "code",
   "execution_count": null,
   "metadata": {},
   "outputs": [],
   "source": [
    "def fibonacci_generator(n):\n",
    "    a, b = 0, 1\n",
    "    while a <= n:\n",
    "        yield a\n",
    "        a, b = b, a + b\n",
    "print(\"Fibonacci Sequence:\")\n",
    "for num in fibonacci_generator(21):\n",
    "    print(num)"
   ]
  },
  {
   "attachments": {},
   "cell_type": "markdown",
   "metadata": {},
   "source": [
    "### Task 3: Exception Handling and Function Decorator"
   ]
  },
  {
   "attachments": {},
   "cell_type": "markdown",
   "metadata": {},
   "source": [
    "#### Part A: Chained Exceptions"
   ]
  },
  {
   "cell_type": "code",
   "execution_count": null,
   "metadata": {},
   "outputs": [],
   "source": [
    "class CustomDivisionError(Exception):\n",
    "    def __init__(self, message):\n",
    "        self.message = message\n",
    "        super().__init__(self.message)\n",
    "def divide_numbers(numbers, divisor):\n",
    "    try:\n",
    "        if divisor == 0:\n",
    "            raise CustomDivisionError(\"Division by zero is not allowed.\")\n",
    "        return [num / divisor for num in numbers]\n",
    "    except CustomDivisionError as e:\n",
    "        raise e\n",
    "    except Exception as e:\n",
    "        raise CustomDivisionError(\"An error occurred during division.\") from e\n",
    "try:\n",
    "    divide_numbers([10, 20, 30], 0)\n",
    "except Exception as e:\n",
    "    print(f\"Error: {e}\")"
   ]
  },
  {
   "attachments": {},
   "cell_type": "markdown",
   "metadata": {},
   "source": [
    "#### Part B: Exception Logging Decorator"
   ]
  },
  {
   "cell_type": "code",
   "execution_count": null,
   "metadata": {},
   "outputs": [],
   "source": [
    "import functools\n",
    "def exception_logging_decorator(func):\n",
    "    @functools.wraps(func)\n",
    "    def wrapper(*args, **kwargs):\n",
    "        try:\n",
    "            return func(*args, **kwargs)\n",
    "        except Exception as e:\n",
    "            print(f\"Exception in {func.__name__}: {type(e).__name__} - {e}\")\n",
    "            raise\n",
    "    return wrapper\n",
    "@exception_logging_decorator\n",
    "def risky_function(x, y):\n",
    "    return x / y\n",
    "try:\n",
    "    risky_function(10, 0)\n",
    "except Exception as e:\n",
    "    pass"
   ]
  }
 ],
 "metadata": {
  "kernelspec": {
   "display_name": "Python 3",
   "language": "python",
   "name": "python3"
  },
  "language_info": {
   "codemirror_mode": {
    "name": "ipython",
    "version": 3
   },
   "file_extension": ".py",
   "mimetype": "text/x-python",
   "name": "python",
   "nbconvert_exporter": "python",
   "pygments_lexer": "ipython3",
   "version": "3.11.5"
  },
  "orig_nbformat": 4,
  "vscode": {
   "interpreter": {
    "hash": "d7f93e61b57b3f4c88d4c54562a0f46f1f34c24c4d7ab3f42c1277f261f9d68a"
   }
  }
 },
 "nbformat": 4,
 "nbformat_minor": 2
}
