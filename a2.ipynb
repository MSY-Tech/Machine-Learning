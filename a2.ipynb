{
 "cells": [
  {
   "cell_type": "markdown",
   "metadata": {},
   "source": [
    "<h1><b>Task 1</b></h1>\n"
   ]
  },
  {
   "cell_type": "code",
   "execution_count": null,
   "metadata": {},
   "outputs": [],
   "source": [
    "class user_data():\n",
    "\tdef __init__(self,id,name,age,coun):\n",
    "\t\tself.id=int(id)\n",
    "\t\tself.name=str(name)\n",
    "\t\tself.age=int(age)\n",
    "\t\tself.coun=str(coun)\n",
    "\tdef __str__(self):\n",
    "\t\treturn str(self.id)+\" \"+str(self.name)+\" \"+str(self.age)+\" \"+str(self.coun)\n",
    "\tdef give_name(self,age,coun):\n",
    "\t\tif self.coun==coun and self.age>=age:\n",
    "\t\t\treturn str(self.name)\n",
    "\tdef sort_age(self):\n",
    "\t\tpass\n",
    "\t\t\n",
    "def filter_on_basis_of_age_con():\n",
    "    age=int(input())\n",
    "    con=str(input())\n",
    "    l1=[]\n",
    "    l=[user_data(1,\"Salman\",19,\"pk\"),user_data(1,\"fgd\",32,\"pk\"),user_data(1,\"fds\",43,\"pk\"),user_data(1,\"rewds\",543,\"pk\"),user_data(1,\"Salman\",19,\"pk\")]\n",
    "    for i in range(len(l)):\n",
    "        if l[i].age>=age and l[i].coun==con:\n",
    "            l1.append(l[i].give_name(age,con))\n",
    "def sort_age_desc(l):\n",
    "    def ret(l):\n",
    "        return l[2]\n",
    "    l.sort(key=ret)\n",
    "    l.reverse()\n",
    "    return l[0:10]\n",
    "def dupli(l):\n",
    "    l1=[]\n",
    "    dic={}\n",
    "    def check(l,i,name):\n",
    "        for j in range(i+1,len(l)):\n",
    "            if l[j][1]==name:\n",
    "                return True\n",
    "        return False\n",
    "            \n",
    "    for i in range(len(l)):\n",
    "        if check(l,i,l[i][1]):\n",
    "            l1.append(l[i])\n",
    "    return l1"
   ]
  },
  {
   "cell_type": "markdown",
   "metadata": {},
   "source": [
    "<h1><b>Task 2</b></h1>"
   ]
  },
  {
   "cell_type": "code",
   "execution_count": null,
   "metadata": {},
   "outputs": [],
   "source": [
    "def unique_users(l):\n",
    "\tl =sorted( set(l), key=lambda x: x[0])\n",
    "\tcnt=0\n",
    "\tfor a in l:\n",
    "\t\tcnt+=1\n",
    "\treturn cnt\n",
    "def highest_amount(l):\n",
    "    l.sort(key=lambda x:x[2])\n",
    "    l.reverse()\n",
    "    return l[0]\n",
    "def separate_ids(l):\n",
    "\tl1,l2=[],[]\n",
    "\tfor i in range(len(l)):\n",
    "\t\tif len(l[i])>=1:\n",
    "\t\t\tl1.append(l[i][0])\n",
    "\t\t\tl2.append(l[i][1])\n",
    "\treturn l1,l2"
   ]
  },
  {
   "cell_type": "markdown",
   "metadata": {},
   "source": [
    "<h1><b>Task 3</b></h1>"
   ]
  },
  {
   "cell_type": "code",
   "execution_count": null,
   "metadata": {},
   "outputs": [],
   "source": [
    "def common_visitor(a,b,c):\n",
    "    return a.intersection(b)\n",
    "def eithor_but_not_both(a,c):\n",
    "    a1=a-c\n",
    "    a2=c-a \n",
    "    return a1.union(a2)\n",
    "def update(a,new):\n",
    "    a.update(new)\n",
    "def remove(a,new):\n",
    "    a.difference_update(new)"
   ]
  },
  {
   "cell_type": "markdown",
   "metadata": {},
   "source": [
    "<h1><b>Task 4</b></h1>"
   ]
  },
  {
   "cell_type": "code",
   "execution_count": 84,
   "metadata": {},
   "outputs": [
    {
     "name": "stdout",
     "output_type": "stream",
     "text": [
      "{'user1': [5, 'Great service! Good experience.'], 'user2': [5, 'Very satisfied. Excellent!'], 'user3': [4, 'Loved it!'], 'user4': [2, 'Not good.']}\n"
     ]
    }
   ],
   "source": [
    "a = {\n",
    "    1: {\"rating\": 4, \"comments\": \"salsdd\"},\n",
    "    2: {\"rating\": 15, \"comments\": \"dssdas\"}\n",
    "}\n",
    "\n",
    "def higher_rating(a):\n",
    "    b = {} \n",
    "    for key in a:\n",
    "        if a[key][\"rating\"] > 4: \n",
    "            b[key] = a[key]  \n",
    "    return b  \n",
    "def sort_by_rating(a):\n",
    "    b = sorted(a.items(), key=lambda x: x[1][\"rating\"], reverse=True)\n",
    "    return b\n",
    "def combine_feedback(feedback_list):\n",
    "    a = {}\n",
    "    for feedback in feedback_list:\n",
    "        for user, details in feedback.items():\n",
    "            rating, comment = details\n",
    "            if user in a:\n",
    "                a[user][0] = max(a[user][0], rating)\n",
    "                a[user][1].append(comment)\n",
    "            else:\n",
    "                a[user] = [rating, [comment]]\n",
    "    for user in a:\n",
    "        a[user][1] = ' '.join(a[user][1])\n",
    "    return a"
   ]
  }
 ],
 "metadata": {
  "kernelspec": {
   "display_name": "Python 3",
   "language": "python",
   "name": "python3"
  },
  "language_info": {
   "codemirror_mode": {
    "name": "ipython",
    "version": 3
   },
   "file_extension": ".py",
   "mimetype": "text/x-python",
   "name": "python",
   "nbconvert_exporter": "python",
   "pygments_lexer": "ipython3",
   "version": "3.11.5"
  }
 },
 "nbformat": 4,
 "nbformat_minor": 2
}
