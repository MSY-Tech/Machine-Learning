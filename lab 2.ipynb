{
 "cells": [
  {
   "cell_type": "code",
   "execution_count": null,
   "metadata": {},
   "outputs": [],
   "source": [
    "import random\n",
    "import numpy as np\n",
    "import pandas as pd\n",
    "from  copy import copy,deepcopy\n",
    "import matplotlib.pyplot as plt\n"
   ]
  },
  {
   "cell_type": "markdown",
   "metadata": {},
   "source": [
    "Task 1"
   ]
  },
  {
   "cell_type": "code",
   "execution_count": null,
   "metadata": {},
   "outputs": [],
   "source": [
    "height=np.random.randint(160,200,100)\n",
    "points=np.random.randint(100,200,100)\n",
    "weight=np.array([max(points)]*100)\n",
    "height=np.append(height,9999)\n",
    "points=np.append(points,9999)\n",
    "weight=np.append(weight,9999)\n",
    "height=np.insert(height,0,9999)\n",
    "points=np.insert(points,0,9999)\n",
    "weight=np.insert(weight,0,9999)\n",
    "df=pd.DataFrame({\"height\":height,\"points\":points,\"weight\":weight})\n",
    "df.to_csv(r\"D:\\University\\Intro to DS\\lab2.csv\")\n",
    "data=pd.read_csv(r\"D:\\University\\Intro to DS\\lab2.csv\")\n",
    "data=data.drop(data['points'].min())\n",
    "data.shape\n"
   ]
  },
  {
   "cell_type": "markdown",
   "metadata": {},
   "source": [
    "Task 2"
   ]
  },
  {
   "cell_type": "code",
   "execution_count": null,
   "metadata": {},
   "outputs": [],
   "source": [
    "am=np.random.randint(1,10001,5)\n",
    "it=np.random.randint(1,201,5)\n",
    "print(am[0:5],it[0:5])\n",
    "am1=copy(am)\n",
    "it1=deepcopy(it)\n",
    "new=np.concatenate((am1,it1),axis=0)\n",
    "a1=new[new>100]\n",
    "a2=new[new<=100]\n",
    "# a1.shape,a2.shape\n",
    "am[0]=5555\n",
    "it[0]=5555\n",
    "print(am[0:5],it[0:5])\n",
    "print(am1[0:5],it1[0:5])\n"
   ]
  }
 ],
 "metadata": {
  "kernelspec": {
   "display_name": "Python 3",
   "language": "python",
   "name": "python3"
  },
  "language_info": {
   "codemirror_mode": {
    "name": "ipython",
    "version": 3
   },
   "file_extension": ".py",
   "mimetype": "text/x-python",
   "name": "python",
   "nbconvert_exporter": "python",
   "pygments_lexer": "ipython3",
   "version": "3.11.5"
  }
 },
 "nbformat": 4,
 "nbformat_minor": 2
}
